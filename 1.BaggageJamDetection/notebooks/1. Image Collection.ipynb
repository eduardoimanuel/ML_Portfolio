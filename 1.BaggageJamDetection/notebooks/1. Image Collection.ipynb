{
 "cells": [
  {
   "cell_type": "markdown",
   "metadata": {},
   "source": [
    "# 1. Import Dependencies"
   ]
  },
  {
   "cell_type": "code",
   "execution_count": 2,
   "metadata": {},
   "outputs": [
    {
     "name": "stdout",
     "output_type": "stream",
     "text": [
      "Collecting opencv-python\n",
      "  Using cached opencv_python-4.6.0.66-cp36-abi3-win_amd64.whl (35.6 MB)\n",
      "Collecting numpy>=1.14.5\n",
      "  Downloading numpy-1.23.0-cp39-cp39-win_amd64.whl (14.7 MB)\n",
      "     -------------------------------------- 14.7/14.7 MB 373.0 kB/s eta 0:00:00\n",
      "Installing collected packages: numpy, opencv-python\n",
      "Successfully installed numpy-1.23.0 opencv-python-4.6.0.66\n"
     ]
    }
   ],
   "source": [
    "!pip install opencv-python"
   ]
  },
  {
   "cell_type": "code",
   "execution_count": 1,
   "metadata": {},
   "outputs": [],
   "source": [
    "# Import opencv\n",
    "import cv2 \n",
    "\n",
    "# Import uuid\n",
    "import uuid\n",
    "\n",
    "# Import Operating System\n",
    "import os\n",
    "\n",
    "# Import time\n",
    "import time"
   ]
  },
  {
   "cell_type": "markdown",
   "metadata": {},
   "source": [
    "# 2. Define Images to Collect"
   ]
  },
  {
   "cell_type": "code",
   "execution_count": 2,
   "metadata": {},
   "outputs": [],
   "source": [
    "labels = ['baggage']\n",
    "number_imgs = 1"
   ]
  },
  {
   "cell_type": "markdown",
   "metadata": {},
   "source": [
    "# 3. Setup Folders "
   ]
  },
  {
   "cell_type": "code",
   "execution_count": 3,
   "metadata": {},
   "outputs": [],
   "source": [
    "IMAGES_PATH = os.path.join('Tensorflow', 'workspace', 'images', 'collectedimages')"
   ]
  },
  {
   "cell_type": "code",
   "execution_count": 4,
   "metadata": {},
   "outputs": [],
   "source": [
    "if not os.path.exists(IMAGES_PATH):\n",
    "    if os.name == 'posix':\n",
    "        !mkdir -p {IMAGES_PATH}\n",
    "    if os.name == 'nt':\n",
    "         !mkdir {IMAGES_PATH}\n",
    "for label in labels:\n",
    "    path = os.path.join(IMAGES_PATH, label)\n",
    "    if not os.path.exists(path):\n",
    "        !mkdir {path}"
   ]
  },
  {
   "cell_type": "markdown",
   "metadata": {},
   "source": [
    "# 4. Capture Images"
   ]
  },
  {
   "cell_type": "code",
   "execution_count": 6,
   "metadata": {},
   "outputs": [
    {
     "ename": "KeyboardInterrupt",
     "evalue": "",
     "output_type": "error",
     "traceback": [
      "\u001b[1;31m---------------------------------------------------------------------------\u001b[0m",
      "\u001b[1;31mKeyboardInterrupt\u001b[0m                         Traceback (most recent call last)",
      "\u001b[1;32me:\\Akademik\\Kerja Praktik\\1. Image Collection.ipynb Cell 10'\u001b[0m in \u001b[0;36m<cell line: 1>\u001b[1;34m()\u001b[0m\n\u001b[0;32m      <a href='vscode-notebook-cell:/e%3A/Akademik/Kerja%20Praktik/1.%20Image%20Collection.ipynb#ch0000009?line=0'>1</a>\u001b[0m \u001b[39mfor\u001b[39;00m label \u001b[39min\u001b[39;00m labels:\n\u001b[1;32m----> <a href='vscode-notebook-cell:/e%3A/Akademik/Kerja%20Praktik/1.%20Image%20Collection.ipynb#ch0000009?line=1'>2</a>\u001b[0m     cap \u001b[39m=\u001b[39m cv2\u001b[39m.\u001b[39;49mVideoCapture(\u001b[39m0\u001b[39;49m)\n\u001b[0;32m      <a href='vscode-notebook-cell:/e%3A/Akademik/Kerja%20Praktik/1.%20Image%20Collection.ipynb#ch0000009?line=2'>3</a>\u001b[0m     \u001b[39mprint\u001b[39m(\u001b[39m'\u001b[39m\u001b[39mCollecting images for \u001b[39m\u001b[39m{}\u001b[39;00m\u001b[39m'\u001b[39m\u001b[39m.\u001b[39mformat(label))\n\u001b[0;32m      <a href='vscode-notebook-cell:/e%3A/Akademik/Kerja%20Praktik/1.%20Image%20Collection.ipynb#ch0000009?line=3'>4</a>\u001b[0m     time\u001b[39m.\u001b[39msleep(\u001b[39m5\u001b[39m)\n",
      "\u001b[1;31mKeyboardInterrupt\u001b[0m: "
     ]
    }
   ],
   "source": [
    "for label in labels:\n",
    "    cap = cv2.VideoCapture(0)\n",
    "    print('Collecting images for {}'.format(label))\n",
    "    time.sleep(5)\n",
    "    for imgnum in range(number_imgs):\n",
    "        print('Collecting image {}'.format(imgnum))\n",
    "        ret, frame = cap.read()\n",
    "        imgname = os.path.join(IMAGES_PATH,label,label+'.'+'{}.jpg'.format(str(uuid.uuid1())))\n",
    "        cv2.imwrite(imgname, frame)\n",
    "        cv2.imshow('frame', frame)\n",
    "        time.sleep(2)\n",
    "\n",
    "        if cv2.waitKey(1) & 0xFF == ord('q'):\n",
    "            break\n",
    "cap.release()\n",
    "cv2.destroyAllWindows()"
   ]
  },
  {
   "cell_type": "markdown",
   "metadata": {},
   "source": [
    "# 5. Image Labelling"
   ]
  },
  {
   "cell_type": "code",
   "execution_count": 5,
   "metadata": {},
   "outputs": [
    {
     "name": "stdout",
     "output_type": "stream",
     "text": [
      "^C\n"
     ]
    }
   ],
   "source": [
    "!pip install --upgrade pyqt5 lxml"
   ]
  },
  {
   "cell_type": "code",
   "execution_count": 5,
   "metadata": {},
   "outputs": [],
   "source": [
    "LABELIMG_PATH = os.path.join('Tensorflow', 'labelimg')"
   ]
  },
  {
   "cell_type": "code",
   "execution_count": 6,
   "metadata": {},
   "outputs": [
    {
     "name": "stderr",
     "output_type": "stream",
     "text": [
      "Cloning into 'Tensorflow\\labelimg'...\n"
     ]
    }
   ],
   "source": [
    "if not os.path.exists(LABELIMG_PATH):\n",
    "    !mkdir {LABELIMG_PATH}\n",
    "    !git clone https://github.com/tzutalin/labelImg {LABELIMG_PATH}"
   ]
  },
  {
   "cell_type": "code",
   "execution_count": 8,
   "metadata": {},
   "outputs": [
    {
     "data": {
      "text/plain": [
       "'Tensorflow\\\\labelimg'"
      ]
     },
     "execution_count": 8,
     "metadata": {},
     "output_type": "execute_result"
    }
   ],
   "source": [
    "LABELIMG_PATH"
   ]
  },
  {
   "cell_type": "code",
   "execution_count": 7,
   "metadata": {},
   "outputs": [],
   "source": [
    "if os.name == 'posix':\n",
    "    !make qt5py3\n",
    "if os.name =='nt':\n",
    "    !cd {LABELIMG_PATH} && pyrcc5 -o libs/resources.py resources.qrc"
   ]
  },
  {
   "cell_type": "code",
   "execution_count": 8,
   "metadata": {},
   "outputs": [
    {
     "name": "stdout",
     "output_type": "stream",
     "text": [
      "Image:E:\\Akademik\\Kerja Praktik\\Tensorflow\\workspace\\images\\collectedimages\\baggage\\Screenshot (43).png -> Annotation:E:/Akademik/Kerja Praktik/Tensorflow/workspace/images/collectedimages/baggage/Screenshot (43).xml\n",
      "Image:E:\\Akademik\\Kerja Praktik\\Tensorflow\\workspace\\images\\collectedimages\\baggage\\Screenshot (44).png -> Annotation:E:/Akademik/Kerja Praktik/Tensorflow/workspace/images/collectedimages/baggage/Screenshot (44).xml\n",
      "Image:E:\\Akademik\\Kerja Praktik\\Tensorflow\\workspace\\images\\collectedimages\\baggage\\Screenshot (45).png -> Annotation:E:/Akademik/Kerja Praktik/Tensorflow/workspace/images/collectedimages/baggage/Screenshot (45).xml\n",
      "Image:E:\\Akademik\\Kerja Praktik\\Tensorflow\\workspace\\images\\collectedimages\\baggage\\Screenshot (46).png -> Annotation:E:/Akademik/Kerja Praktik/Tensorflow/workspace/images/collectedimages/baggage/Screenshot (46).xml\n",
      "Image:E:\\Akademik\\Kerja Praktik\\Tensorflow\\workspace\\images\\collectedimages\\baggage\\Screenshot (47).png -> Annotation:E:/Akademik/Kerja Praktik/Tensorflow/workspace/images/collectedimages/baggage/Screenshot (47).xml\n",
      "Image:E:\\Akademik\\Kerja Praktik\\Tensorflow\\workspace\\images\\collectedimages\\baggage\\Screenshot (48).png -> Annotation:E:/Akademik/Kerja Praktik/Tensorflow/workspace/images/collectedimages/baggage/Screenshot (48).xml\n",
      "Image:E:\\Akademik\\Kerja Praktik\\Tensorflow\\workspace\\images\\collectedimages\\baggage\\Screenshot (49).png -> Annotation:E:/Akademik/Kerja Praktik/Tensorflow/workspace/images/collectedimages/baggage/Screenshot (49).xml\n",
      "Image:E:\\Akademik\\Kerja Praktik\\Tensorflow\\workspace\\images\\collectedimages\\baggage\\Screenshot (50).png -> Annotation:E:/Akademik/Kerja Praktik/Tensorflow/workspace/images/collectedimages/baggage/Screenshot (50).xml\n",
      "Image:E:\\Akademik\\Kerja Praktik\\Tensorflow\\workspace\\images\\collectedimages\\baggage\\Screenshot (51).png -> Annotation:E:/Akademik/Kerja Praktik/Tensorflow/workspace/images/collectedimages/baggage/Screenshot (51).xml\n",
      "Cancel creation.\n",
      "Image:E:\\Akademik\\Kerja Praktik\\Tensorflow\\workspace\\images\\collectedimages\\baggage\\Screenshot (52).png -> Annotation:E:/Akademik/Kerja Praktik/Tensorflow/workspace/images/collectedimages/baggage/Screenshot (52).xml\n",
      "Image:E:\\Akademik\\Kerja Praktik\\Tensorflow\\workspace\\images\\collectedimages\\baggage\\Screenshot (53).png -> Annotation:E:/Akademik/Kerja Praktik/Tensorflow/workspace/images/collectedimages/baggage/Screenshot (53).xml\n",
      "Image:E:\\Akademik\\Kerja Praktik\\Tensorflow\\workspace\\images\\collectedimages\\baggage\\Screenshot (159).png -> Annotation:E:/Akademik/Kerja Praktik/Tensorflow/workspace/images/collectedimages/baggage/Screenshot (159).xml\n",
      "Image:E:\\Akademik\\Kerja Praktik\\Tensorflow\\workspace\\images\\collectedimages\\baggage\\Screenshot (170).png -> Annotation:E:/Akademik/Kerja Praktik/Tensorflow/workspace/images/collectedimages/baggage/Screenshot (170).xml\n",
      "Image:E:\\Akademik\\Kerja Praktik\\Tensorflow\\workspace\\images\\collectedimages\\baggage\\Screenshot (172).png -> Annotation:E:/Akademik/Kerja Praktik/Tensorflow/workspace/images/collectedimages/baggage/Screenshot (172).xml\n",
      "Image:E:\\Akademik\\Kerja Praktik\\Tensorflow\\workspace\\images\\collectedimages\\baggage\\Screenshot (175).png -> Annotation:E:/Akademik/Kerja Praktik/Tensorflow/workspace/images/collectedimages/baggage/Screenshot (175).xml\n",
      "Image:E:\\Akademik\\Kerja Praktik\\Tensorflow\\workspace\\images\\collectedimages\\baggage\\Screenshot (181).png -> Annotation:E:/Akademik/Kerja Praktik/Tensorflow/workspace/images/collectedimages/baggage/Screenshot (181).xml\n",
      "Image:E:\\Akademik\\Kerja Praktik\\Tensorflow\\workspace\\images\\collectedimages\\baggage\\Screenshot (208).png -> Annotation:E:/Akademik/Kerja Praktik/Tensorflow/workspace/images/collectedimages/baggage/Screenshot (208).xml\n",
      "Cancel creation.\n",
      "Image:E:\\Akademik\\Kerja Praktik\\Tensorflow\\workspace\\images\\collectedimages\\baggage\\Screenshot (211).png -> Annotation:E:/Akademik/Kerja Praktik/Tensorflow/workspace/images/collectedimages/baggage/Screenshot (211).xml\n",
      "Image:E:\\Akademik\\Kerja Praktik\\Tensorflow\\workspace\\images\\collectedimages\\baggage\\Screenshot (212).png -> Annotation:E:/Akademik/Kerja Praktik/Tensorflow/workspace/images/collectedimages/baggage/Screenshot (212).xml\n",
      "Image:E:\\Akademik\\Kerja Praktik\\Tensorflow\\workspace\\images\\collectedimages\\baggage\\Screenshot (230).png -> Annotation:E:/Akademik/Kerja Praktik/Tensorflow/workspace/images/collectedimages/baggage/Screenshot (230).xml\n",
      "Image:E:\\Akademik\\Kerja Praktik\\Tensorflow\\workspace\\images\\collectedimages\\baggage\\Screenshot (235).png -> Annotation:E:/Akademik/Kerja Praktik/Tensorflow/workspace/images/collectedimages/baggage/Screenshot (235).xml\n",
      "Image:E:\\Akademik\\Kerja Praktik\\Tensorflow\\workspace\\images\\collectedimages\\baggage\\Screenshot (237).png -> Annotation:E:/Akademik/Kerja Praktik/Tensorflow/workspace/images/collectedimages/baggage/Screenshot (237).xml\n",
      "Image:E:\\Akademik\\Kerja Praktik\\Tensorflow\\workspace\\images\\collectedimages\\baggage\\Screenshot (261).png -> Annotation:E:/Akademik/Kerja Praktik/Tensorflow/workspace/images/collectedimages/baggage/Screenshot (261).xml\n",
      "Image:E:\\Akademik\\Kerja Praktik\\Tensorflow\\workspace\\images\\collectedimages\\baggage\\Screenshot (280).png -> Annotation:E:/Akademik/Kerja Praktik/Tensorflow/workspace/images/collectedimages/baggage/Screenshot (280).xml\n",
      "Image:E:\\Akademik\\Kerja Praktik\\Tensorflow\\workspace\\images\\collectedimages\\baggage\\Screenshot (281).png -> Annotation:E:/Akademik/Kerja Praktik/Tensorflow/workspace/images/collectedimages/baggage/Screenshot (281).xml\n",
      "Image:E:\\Akademik\\Kerja Praktik\\Tensorflow\\workspace\\images\\collectedimages\\baggage\\Screenshot (283).png -> Annotation:E:/Akademik/Kerja Praktik/Tensorflow/workspace/images/collectedimages/baggage/Screenshot (283).xml\n",
      "Image:E:\\Akademik\\Kerja Praktik\\Tensorflow\\workspace\\images\\collectedimages\\baggage\\Screenshot (284).png -> Annotation:E:/Akademik/Kerja Praktik/Tensorflow/workspace/images/collectedimages/baggage/Screenshot (284).xml\n"
     ]
    }
   ],
   "source": [
    "!cd {LABELIMG_PATH} && python labelImg.py"
   ]
  },
  {
   "cell_type": "markdown",
   "metadata": {},
   "source": [
    "# 6. Move them into a Training and Testing Partition"
   ]
  },
  {
   "cell_type": "markdown",
   "metadata": {},
   "source": [
    "# OPTIONAL - 7. Compress them for Colab Training"
   ]
  },
  {
   "cell_type": "code",
   "execution_count": 20,
   "metadata": {},
   "outputs": [],
   "source": [
    "TRAIN_PATH = os.path.join('Tensorflow', 'workspace', 'images', 'train')\n",
    "TEST_PATH = os.path.join('Tensorflow', 'workspace', 'images', 'test')\n",
    "ARCHIVE_PATH = os.path.join('Tensorflow', 'workspace', 'images', 'archive.tar.gz')"
   ]
  },
  {
   "cell_type": "code",
   "execution_count": 21,
   "metadata": {},
   "outputs": [],
   "source": [
    "!tar -czf {ARCHIVE_PATH} {TRAIN_PATH} {TEST_PATH}"
   ]
  },
  {
   "cell_type": "code",
   "execution_count": null,
   "metadata": {},
   "outputs": [],
   "source": []
  }
 ],
 "metadata": {
  "kernelspec": {
   "display_name": "Python 3.9.4 ('tfod': venv)",
   "language": "python",
   "name": "python3"
  },
  "language_info": {
   "codemirror_mode": {
    "name": "ipython",
    "version": 3
   },
   "file_extension": ".py",
   "mimetype": "text/x-python",
   "name": "python",
   "nbconvert_exporter": "python",
   "pygments_lexer": "ipython3",
   "version": "3.9.4"
  },
  "vscode": {
   "interpreter": {
    "hash": "0c655062e41e1e215cc777583591d3c6667cf6c509335a6abb73e0515cfa2c1b"
   }
  }
 },
 "nbformat": 4,
 "nbformat_minor": 2
}
